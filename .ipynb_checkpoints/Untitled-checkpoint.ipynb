{
 "cells": [
  {
   "cell_type": "code",
   "execution_count": 12,
   "metadata": {},
   "outputs": [
    {
     "name": "stdout",
     "output_type": "stream",
     "text": [
      "// THIS IS AN SOURCE FILE\n",
      "\n",
      "#include <iostream>\n",
      "\n",
      "using namespace std;\n",
      "\n",
      "int main()\n",
      "\n",
      "{\n",
      "\n",
      "\tint a,b,c;\n",
      "\n",
      "\ta=10;\n",
      "\n",
      "\tb=23;\n",
      "\n",
      "\tc=a       +b;\n",
      "\n",
      "\tcout<<\"a+b=\";\n",
      "\n",
      "\tcout<<c;\n",
      "\n",
      "\tcout<<endl;\n",
      "\n",
      "\treturn 0;\n",
      "\n",
      "}\n"
     ]
    }
   ],
   "source": [
    "operator = ['+','-','*','/']\n",
    "\n",
    "with open('source_file.txt') as f:\n",
    "    for line in f.readlines():\n",
    "        print(line)"
   ]
  }
 ],
 "metadata": {
  "kernelspec": {
   "display_name": "Python 3",
   "language": "python",
   "name": "python3"
  },
  "language_info": {
   "codemirror_mode": {
    "name": "ipython",
    "version": 3
   },
   "file_extension": ".py",
   "mimetype": "text/x-python",
   "name": "python",
   "nbconvert_exporter": "python",
   "pygments_lexer": "ipython3",
   "version": "3.6.2"
  }
 },
 "nbformat": 4,
 "nbformat_minor": 2
}
